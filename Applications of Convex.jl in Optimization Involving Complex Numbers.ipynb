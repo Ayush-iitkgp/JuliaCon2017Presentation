{
 "cells": [
  {
   "cell_type": "markdown",
   "metadata": {
    "slideshow": {
     "slide_type": "slide"
    }
   },
   "source": [
    "# Applications of Convex.jl in Optimization Involving Complex Numbers\n",
    "\n",
    "## Ayush Pandey | JuliaCon 2017\n",
    "\n",
    "[https://github.com/Ayush-iitkgp/JuliaCon2017Presentation](https://github.com/Ayush-iitkgp/JuliaCon2017Presentation)\n",
    "\n",
    "<!--- http://www.damian.oquanta.info/posts/make-your-slides-with-ipython.html --->"
   ]
  },
  {
   "cell_type": "markdown",
   "metadata": {
    "slideshow": {
     "slide_type": "slide"
    }
   },
   "source": [
    "# About Me \n",
    "\n",
    "* **BS and MS in Mathematics and Computing Sciences (July'12-June'17) at Indian Institute of Technology Kharagpur **\n",
    "\n",
    "* **Google Summer of Code 2016 and 2017 student under the Julia Language**\n",
    "\n",
    "* **GitHub:** [Ayush-iitkgp](https://github.com/ayush-iitkgp)\n",
    "\n",
    "* **Website:** [https://ayush-iitkgp.github.io](https://ayush-iitkgp.github.io/) \n",
    "\n",
    "\n",
    "\n",
    "<!----#### Blogging my GSoC'16 experience at [http://ayush-iitkgp.rhcloud.com](http://ayush-iitkgp.rhcloud.com/) ---->\n",
    "\n",
    "<!--- ## CVX.jl team\n",
    "\n",
    "* [CVX.jl](https://github.com/cvxgrp/CVX.jl): Madeleine Udell, Karanveer Mohan, David Zeng, Jenny Hong\n",
    "<!---* [ParallelSparseMatMul.jl](https://github.com/madeleineudell/ParallelSparseMatMul.jl): Madeleine Udell\n",
    "--->"
   ]
  },
  {
   "cell_type": "markdown",
   "metadata": {
    "slideshow": {
     "slide_type": "slide"
    }
   },
   "source": [
    "# Outline\n",
    "\n",
    "* Power Flow Optimization\n",
    "* Fidelity in Quantum Information\n",
    "* Benchmark"
   ]
  },
  {
   "cell_type": "markdown",
   "metadata": {
    "slideshow": {
     "slide_type": "subslide"
    }
   },
   "source": [
    "### Optimal Power Flow - Introduction\n",
    "\n",
    "* Power flow study is an analysis of a connected electrical power system’s capability to adequately supply the connected load.  \n",
    "\n",
    "![An example of a power network](Power_Network.png)\n",
    "\n",
    "* **Unknowns: ** - Voltages angle and magnitude information for each bus\n",
    "* **Knowns: ** - Load( such as appliances and lights.) and generator real power and voltage condition.\n",
    "<!-- An electrical load is an electrical component or portion of a circuit that consumes (active) electric power. -->"
   ]
  },
  {
   "cell_type": "markdown",
   "metadata": {
    "slideshow": {
     "slide_type": "subslide"
    }
   },
   "source": [
    "### Optimal Power Flow - Mathematical Formulation"
   ]
  },
  {
   "cell_type": "markdown",
   "metadata": {
    "slideshow": {
     "slide_type": "subslide"
    }
   },
   "source": [
    "#### Constraints\n",
    "\n",
    "![Each transmission line has four flows](Power_Network_2.png)\n",
    "\n",
    "* $p_{ij}$: Active power entering the line from node i\n",
    "* Let $x_{i}$ denote the complex voltage for node i of the network. \n",
    "\n",
    "We have the following power balance equations which are **non-linear** in unknown x.\n",
    "\n",
    "![Power balance equations](Power_Network_3.png)"
   ]
  },
  {
   "cell_type": "markdown",
   "metadata": {
    "slideshow": {
     "slide_type": "subslide"
    }
   },
   "source": [
    "#### Objective \n",
    "\n",
    "Depends on the business needs such as: \n",
    "\n",
    "* Minimize power losses in an electrical network\n",
    "* Minimize cost of generation"
   ]
  },
  {
   "cell_type": "markdown",
   "metadata": {
    "slideshow": {
     "slide_type": "subslide"
    }
   },
   "source": [
    "### Optimal Power Flow - SDP Relaxation\n",
    "\n",
    "* The original optimal power flow problem is non-convex in nature.\n",
    "* Thanks to the **lifting technique** which converts the above optimization problem to a SemiDefinite Programming Problem.\n",
    "* The relaxed SDP problem finds the near global solution of the original non-convex problem."
   ]
  },
  {
   "cell_type": "markdown",
   "metadata": {
    "slideshow": {
     "slide_type": "subslide"
    }
   },
   "source": [
    "### Example\n",
    "\n",
    "* The data is taken from the IEEE 14 Bus test case which represents a portion of the American Electric Power System (in the Midwestern US) as of February, 1962."
   ]
  },
  {
   "cell_type": "code",
   "execution_count": null,
   "metadata": {
    "collapsed": true,
    "slideshow": {
     "slide_type": "fragment"
    }
   },
   "outputs": [],
   "source": [
    "using Convex  # Read the input data\n",
    "using FactCheck\n",
    "using MAT   #Pkg.add(\"MAT\")\n",
    "TOL = 1e-2;\n",
    "input = matopen(\"Data.mat\")\n",
    "varnames = names(input)\n",
    "Data = read(input, \"inj\",\"Y\");\n",
    "n=size(Data[2],1); # Create some intermediate variables\n",
    "Y=Data[2];\n",
    "inj=Data[1];"
   ]
  },
  {
   "cell_type": "code",
   "execution_count": 4,
   "metadata": {
    "slideshow": {
     "slide_type": "fragment"
    }
   },
   "outputs": [
    {
     "data": {
      "text/plain": [
       "Variable of\n",
       "size: (4, 2)\n",
       "sign: Convex.NoSign()\n",
       "vexity: Convex.AffineVexity()"
      ]
     },
     "execution_count": 4,
     "metadata": {},
     "output_type": "execute_result"
    }
   ],
   "source": [
    "W = ComplexVariable(n,n); # W is the matrix of pairwise products of the voltages\n",
    "\n",
    "objective = real(sum(diag(W))); # The objective is to minimize cost of generation\n",
    "\n",
    "c1 = Constraint[]; # The constraints are power balance equations\n",
    "for i=2:n\n",
    "    push!(c1,sum(W[i,:].*(Y[i,:]'))==inj[i]);\n",
    "end\n",
    "c2 = W in :SDP\n",
    "c3 = real(W[1,1])==1.06^2;\n",
    "push!(c1, c2)\n",
    "push!(c1, c3)"
   ]
  },
  {
   "cell_type": "code",
   "execution_count": null,
   "metadata": {
    "collapsed": true,
    "slideshow": {
     "slide_type": "subslide"
    }
   },
   "outputs": [],
   "source": [
    "p = maximize(objective,c1); # Create the problem\n",
    "solve!(p) # Solve the problem\n",
    "p.optval #15.125857662600703\n",
    "evaluate(objective) #15.1258578588357"
   ]
  },
  {
   "cell_type": "code",
   "execution_count": 5,
   "metadata": {
    "slideshow": {
     "slide_type": "fragment"
    }
   },
   "outputs": [
    {
     "data": {
      "text/plain": [
       "AbstractExpr with\n",
       "head: geomean\n",
       "size: (1, 1)\n",
       "sign: Convex.Positive()\n",
       "vexity: Convex.ConcaveVexity()\n"
      ]
     },
     "execution_count": 5,
     "metadata": {},
     "output_type": "execute_result"
    }
   ],
   "source": [
    "output = matopen(\"Res.mat\") # Verify the results\n",
    "names(output)\n",
    "outputData = read(output, \"Wres\");\n",
    "Wres = outputData\n",
    "real_diff = real(W.value) - real(Wres);\n",
    "imag_diff = imag(W.value) - imag(Wres);\n",
    "@fact real_diff => roughly(zeros(n,n), TOL)\n",
    "@fact imag_diff => roughly(zeros(n,n), TOL)"
   ]
  },
  {
   "cell_type": "markdown",
   "metadata": {
    "slideshow": {
     "slide_type": "subslide"
    }
   },
   "source": [
    "### Fidelity in Quantum Information Theory - Introduction\n",
    "\n",
    "* This example is inspired from a lecture of John Watrous in the [course on Theory of Quantum Information](https://cs.uwaterloo.ca/~watrous/CS766/LectureNotes/08.pdf).\n",
    "\n",
    "* Fidelity is a measure of the **closeness** of two quantum states.\n",
    "   \n",
    "* The ability to distinguish between the quantum states is equivalent to the ability to distinguish between the classical probability distributions. \n",
    "\n",
    "* If fidelity between two states is 1, they are the same quantum state.\n",
    "\n",
    "<!-- If an experimenter is attempting to determine whether a quantum state is either of two possibilities {\\displaystyle \\rho } \\rho  or {\\displaystyle \\sigma } \\sigma , the most general possible measurement they can make on the state is a POVM, which is described by a set of Hermitian positive semidefinite operators {\\displaystyle \\{F_{i}\\}} \\{F_{i}\\}. If the state given to the experimenter is {\\displaystyle \\rho } \\rho , they will witness outcome {\\displaystyle i} i with probability {\\displaystyle p_{i}=\\mathrm {Tr} [\\rho F_{i}]} p_{i}={\\mathrm  {Tr}}[\\rho F_{i}], and likewise with probability {\\displaystyle q_{i}=\\mathrm {Tr} [\\sigma F_{i}]} q_{i}={\\mathrm  {Tr}}[\\sigma F_{i}] for {\\displaystyle \\sigma } \\sigma  -->\n",
    "\n",
    "<!-- Wikipedia Link -->\n",
    "<!-- https://en.wikipedia.org/wiki/Fidelity_of_quantum_states -->"
   ]
  },
  {
   "cell_type": "markdown",
   "metadata": {
    "slideshow": {
     "slide_type": "subslide"
    }
   },
   "source": [
    "* **Application** \n",
    "\n",
    "![Quantum Cryptography](Fidelity.png)\n",
    "\n",
    "* The Fidelity between two Hermitian semidefinite matrices P and Q is defined as:\n",
    "\n",
    "$$F(P,Q) = {||{P}^{1/2}{Q}^{1/2} ||}_{tr} =  \\max\\; |trace({P}^{1/2}U{Q}^{1/2})|$$\n",
    "\n",
    "where the trace norm $||.||_{tr}$ is the sum of the singular values, and the maximization goes over the set of all unitary matrices U."
   ]
  },
  {
   "cell_type": "markdown",
   "metadata": {
    "slideshow": {
     "slide_type": "subslide"
    }
   },
   "source": [
    "### Fidelity in Quantum Information Theory - Mathematical Formulation\n",
    "\n",
    "Fidelity can be expressed as the optimal value of the following complex-valued SDP:\n",
    "\n",
    "$$ \\textbf{maximize} \\frac{1}{2} trace(Z+Z^*)$$\n",
    "\n",
    "$$\\text{subject to } \\left[\\begin{array}{cc}P&Z\\\\{Z}^{*}&Q\\end{array}\\right] \\succeq 0$$\n",
    "\n",
    "$$\\text{where } Z \\in \\mathbf {C}^{n \\times n}$$"
   ]
  },
  {
   "cell_type": "markdown",
   "metadata": {
    "slideshow": {
     "slide_type": "subslide"
    }
   },
   "source": [
    "### Example"
   ]
  },
  {
   "cell_type": "code",
   "execution_count": null,
   "metadata": {
    "collapsed": true,
    "slideshow": {
     "slide_type": "fragment"
    }
   },
   "outputs": [],
   "source": [
    "n = 20 # Create the data\n",
    "P = randn(n,n) + im*randn(n,n)\n",
    "P = P*P'\n",
    "Q = randn(n,n) + im*randn(n,n)\n",
    "Q = Q*Q'\n",
    "\n",
    "Z = ComplexVariable(n,n) # Declare convex variable\n",
    "\n",
    "objective = 0.5*real(trace(Z+Z'))  # Specify the problem\n",
    "constraint = [P Z;Z' Q] ⪰ 0\n",
    "problem = maximize(objective,constraint)\n",
    " \n",
    "solve!(problem) # Solve the problem\n",
    "computed_fidelity = evaluate(objective)"
   ]
  },
  {
   "cell_type": "code",
   "execution_count": 9,
   "metadata": {
    "slideshow": {
     "slide_type": "fragment"
    }
   },
   "outputs": [
    {
     "data": {
      "text/plain": [
       "Problem:\n",
       "minimize AbstractExpr with\n",
       "head: +\n",
       "size: (1, 1)\n",
       "sign: Convex.NoSign()\n",
       "vexity: Convex.ConvexVexity()\n",
       "\n",
       "subject to\n",
       "Constraint:\n",
       "== constraint\n",
       "lhs: AbstractExpr with\n",
       "head: *\n",
       "size: (3, 1)\n",
       "sign: Convex.NoSign()\n",
       "vexity: Convex.AffineVexity()\n",
       "\n",
       "rhs: [-1.6048077944321295,2.1044876445367,0.6535176954608789]\n",
       "vexity: Convex.AffineVexity()\n",
       "\t\tConstraint:\n",
       "<= constraint\n",
       "lhs: AbstractExpr with\n",
       "head: norm2\n",
       "size: (1, 1)\n",
       "sign: Convex.Positive()\n",
       "vexity: Convex.ConvexVexity()\n",
       "\n",
       "rhs: 2\n",
       "vexity: Convex.ConvexVexity()\n",
       "current status: not yet solved"
      ]
     },
     "execution_count": 9,
     "metadata": {},
     "output_type": "execute_result"
    }
   ],
   "source": [
    "# Verify that computer fidelity is equal to actual fidelity\n",
    "P1,P2 = eig(P)\n",
    "sqP = P2 * diagm([p1^0.5 for p1 in P1]) * P2'\n",
    "Q1,Q2 = eig(Q)\n",
    "sqQ = Q2 * diagm([q1^0.5 for q1 in Q1]) * Q2'\n",
    "objective = 2*x + 1 - sqrt(sum(y))\n",
    "p = minimize(objective, constraint1, constraint2)\n",
    "actual_fidelity = sum(svd(sqP * sqQ)[2])"
   ]
  },
  {
   "cell_type": "markdown",
   "metadata": {
    "slideshow": {
     "slide_type": "subslide"
    }
   },
   "source": [
    "# Thank You!"
   ]
  }
 ],
 "metadata": {
  "celltoolbar": "Slideshow",
  "kernelspec": {
   "display_name": "Julia 0.5.2",
   "language": "julia",
   "name": "julia-0.5"
  },
  "language_info": {
   "file_extension": ".jl",
   "mimetype": "application/julia",
   "name": "julia",
   "version": "0.5.0"
  }
 },
 "nbformat": 4,
 "nbformat_minor": 1
}
