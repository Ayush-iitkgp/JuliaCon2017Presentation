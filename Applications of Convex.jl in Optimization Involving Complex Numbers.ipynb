{
 "cells": [
  {
   "cell_type": "markdown",
   "metadata": {
    "slideshow": {
     "slide_type": "slide"
    }
   },
   "source": [
    "# Applications of Convex.jl in Optimization Involving Complex Numbers\n",
    "\n",
    "## Ayush Pandey | JuliaCon 2017\n",
    "\n",
    "[https://github.com/Ayush-iitkgp/JuliaCon2017Presentation](https://github.com/Ayush-iitkgp/JuliaCon2017Presentation)\n",
    "\n",
    "<!--- http://www.damian.oquanta.info/posts/make-your-slides-with-ipython.html --->"
   ]
  },
  {
   "cell_type": "markdown",
   "metadata": {
    "slideshow": {
     "slide_type": "slide"
    }
   },
   "source": [
    "# About Me \n",
    "\n",
    "* **BS and MS in Mathematics and Computing Sciences (July'12-June'17) at Indian Institute of Technology Kharagpur **\n",
    "\n",
    "* **Google Summer of Code 2016 and 2017 student under the Julia Language**\n",
    "\n",
    "* **GitHub:** [Ayush-iitkgp](https://github.com/ayush-iitkgp)\n",
    "\n",
    "* **Website:** [https://ayush-iitkgp.github.io](https://ayush-iitkgp.github.io/) \n",
    "\n",
    "\n",
    "\n",
    "<!----#### Blogging my GSoC'16 experience at [http://ayush-iitkgp.rhcloud.com](http://ayush-iitkgp.rhcloud.com/) ---->\n",
    "\n",
    "<!--- ## CVX.jl team\n",
    "\n",
    "* [CVX.jl](https://github.com/cvxgrp/CVX.jl): Madeleine Udell, Karanveer Mohan, David Zeng, Jenny Hong\n",
    "<!---* [ParallelSparseMatMul.jl](https://github.com/madeleineudell/ParallelSparseMatMul.jl): Madeleine Udell\n",
    "--->"
   ]
  },
  {
   "cell_type": "markdown",
   "metadata": {
    "slideshow": {
     "slide_type": "slide"
    }
   },
   "source": [
    "# Outline\n",
    "\n",
    "* Power Flow Optimization\n",
    "* Fidelity in Quantum Information\n",
    "<!--* Benchmark -->"
   ]
  },
  {
   "cell_type": "markdown",
   "metadata": {
    "slideshow": {
     "slide_type": "subslide"
    }
   },
   "source": [
    "### Optimal Power Flow - Introduction\n",
    "\n",
    "* Power flow study is an analysis of a connected electrical power system’s capability to adequately supply the connected load.  \n",
    "\n",
    "![An example of a power network](Power_Network.png)\n",
    "\n",
    "* **Unknowns: ** - Voltages angle and magnitude information for each bus\n",
    "* **Knowns: ** - Load( such as appliances and lights.) and generator real power and voltage condition.\n",
    "<!-- An electrical load is an electrical component or portion of a circuit that consumes (active) electric power. -->"
   ]
  },
  {
   "cell_type": "markdown",
   "metadata": {
    "slideshow": {
     "slide_type": "subslide"
    }
   },
   "source": [
    "### Optimal Power Flow - Mathematical Formulation"
   ]
  },
  {
   "cell_type": "markdown",
   "metadata": {
    "slideshow": {
     "slide_type": "subslide"
    }
   },
   "source": [
    "#### Constraints\n",
    "\n",
    "![Each transmission line has four flows](Power_Network_2.png)\n",
    "\n",
    "* $p_{ij}$: Active power entering the line from node i\n",
    "* $q_{ij}$: Reactive power entering the line from node i\n",
    "* Let $x_{i}$ denote the complex voltage for node i of the network. \n",
    "\n",
    "We have the following power balance equations which are **non-linear** in unknown $x_{i}$ and $x_{j}$.\n",
    "\n",
    "![Power balance equations](Power_Network_3.png)"
   ]
  },
  {
   "cell_type": "markdown",
   "metadata": {
    "slideshow": {
     "slide_type": "subslide"
    }
   },
   "source": [
    "#### Objective \n",
    "\n",
    "Depends upon the business needs such as: \n",
    "\n",
    "* Minimize power losses in an electrical network\n",
    "* Minimize cost of generation"
   ]
  },
  {
   "cell_type": "markdown",
   "metadata": {
    "slideshow": {
     "slide_type": "subslide"
    }
   },
   "source": [
    "### Optimal Power Flow - SDP Relaxation\n",
    "\n",
    "* The original optimal power flow problem is non-convex in nature.\n",
    "* Thanks to the [**lifting technique**](https://www.informs.org/content/download/320453/3031884/version/2/file/OStoday2016.pdf) which converts the above optimization problem to a SemiDefinite Programming Problem.\n",
    "* The relaxed SDP problem finds the **near global solution** of the original non-convex problem."
   ]
  },
  {
   "cell_type": "markdown",
   "metadata": {
    "slideshow": {
     "slide_type": "subslide"
    }
   },
   "source": [
    "### Example\n",
    "\n",
    "* The data is taken from the IEEE 14 Bus test case which represents a portion of the American Electric Power System (in the Midwestern US) as of February, 1962."
   ]
  },
  {
   "cell_type": "code",
   "execution_count": 37,
   "metadata": {
    "collapsed": true,
    "slideshow": {
     "slide_type": "fragment"
    }
   },
   "outputs": [],
   "source": [
    "using Convex  # Read the input data\n",
    "using FactCheck\n",
    "using MAT   #Pkg.add(\"MAT\")\n",
    "TOL = 1e-2;\n",
    "input = matopen(\"Data.mat\")\n",
    "varnames = names(input)\n",
    "Data = read(input, \"inj\",\"Y\");\n",
    "n=size(Data[2],1); # Create some intermediate variables\n",
    "Y=Data[2];\n",
    "inj=Data[1];"
   ]
  },
  {
   "cell_type": "code",
   "execution_count": 38,
   "metadata": {
    "collapsed": true,
    "slideshow": {
     "slide_type": "fragment"
    }
   },
   "outputs": [],
   "source": [
    "W = ComplexVariable(n,n); # W is the matrix of pairwise products of the voltages\n",
    "\n",
    "objective = real(sum(diag(W))); # The objective is to minimize cost of generation\n",
    "\n",
    "c1 = Constraint[]; # The constraints are power balance equations\n",
    "for i=2:n\n",
    "    push!(c1,sum(W[i,:].*(Y[i,:]'))==inj[i]);\n",
    "end\n",
    "c2 = W in :SDP;\n",
    "c3 = real(W[1,1])==1.06^2;\n",
    "push!(c1, c2);\n",
    "push!(c1, c3);"
   ]
  },
  {
   "cell_type": "code",
   "execution_count": 39,
   "metadata": {
    "slideshow": {
     "slide_type": "subslide"
    }
   },
   "outputs": [
    {
     "name": "stdout",
     "output_type": "stream",
     "text": [
      "----------------------------------------------------------------------------\n",
      "\tSCS v1.2.6 - Splitting Conic Solver\n",
      "\t(c) Brendan O'Donoghue, Stanford University, 2012-2016\n",
      "----------------------------------------------------------------------------\n",
      "Lin-sys: sparse-direct, nnz in A = 1344\n",
      "eps = 1.00e-04, alpha = 1.80, max_iters = 20000, normalize = 1, scale = 5.00\n",
      "Variables n = 393, constraints m = 812\n",
      "Cones:\tprimal zero / dual free vars: 406\n",
      "\tsd vars: 406, sd blks: 1\n",
      "Setup time: 6.53e-04s\n",
      "----------------------------------------------------------------------------\n",
      " Iter | pri res | dua res | rel gap | pri obj | dua obj | kap/tau | time (s)\n",
      "----------------------------------------------------------------------------\n",
      "     0|      inf       inf      -nan      -inf       inf       inf  3.16e-04 \n",
      "   100| 3.92e-02  8.28e-02  6.88e-05 -1.43e+01 -1.43e+01  1.23e-16  1.01e-01 \n",
      "   200| 7.31e-03  1.97e-02  1.66e-05 -1.48e+01 -1.48e+01  0.00e+00  1.61e-01 \n",
      "   300| 2.71e-03  5.88e-03  5.13e-06 -1.50e+01 -1.50e+01  1.27e-16  2.24e-01 \n",
      "   400| 8.98e-04  1.92e-03  1.68e-06 -1.51e+01 -1.51e+01  1.27e-16  2.73e-01 \n",
      "   500| 2.88e-04  6.27e-04  5.46e-07 -1.51e+01 -1.51e+01  1.27e-16  3.30e-01 \n",
      "   600| 9.25e-05  2.02e-04  1.75e-07 -1.51e+01 -1.51e+01  1.27e-16  3.98e-01 \n",
      "   680| 3.73e-05  8.15e-05  7.03e-08 -1.51e+01 -1.51e+01  1.27e-16  4.39e-01 \n",
      "----------------------------------------------------------------------------\n",
      "Status: Solved\n",
      "Timing: Solve time: 4.39e-01s\n",
      "\tLin-sys: nnz in L factor: 2906, avg solve time: 1.97e-05s\n",
      "\tCones: avg projection time: 6.13e-04s\n",
      "----------------------------------------------------------------------------\n",
      "Error metrics:\n",
      "dist(s, K) = 2.1500e-09, dist(y, K*) = 2.0328e-09, s'y/|s||y| = 3.5844e-13\n",
      "|Ax + s - b|_2 / (1 + |b|_2) = 3.7310e-05\n",
      "|A'y + c|_2 / (1 + |c|_2) = 8.1457e-05\n",
      "|c'x + b'y| / (1 + |c'x| + |b'y|) = 7.0266e-08\n",
      "----------------------------------------------------------------------------\n",
      "c'x = -15.1259, -b'y = -15.1259\n",
      "============================================================================\n"
     ]
    }
   ],
   "source": [
    "p = maximize(objective,c1); # Create the problem\n",
    "solve!(p); # Solve the problem\n",
    "p.optval #15.125857662600703\n",
    "evaluate(objective) #15.1258578588357"
   ]
  },
  {
   "cell_type": "code",
   "execution_count": 40,
   "metadata": {
    "slideshow": {
     "slide_type": "subslide"
    }
   },
   "outputs": [
    {
     "data": {
      "text/plain": [
       "\u001b[1m\u001b[32mSuccess\u001b[0m :: (line:441) :: fact was true\n",
       "  Expression: imag_diff --> roughly(zeros(n,n),TOL)\n",
       "    Expected: [0.0 0.0 0.0 0.0 0.0 0.0 0.0 0.0 0.0 0.0 0.0 0.0 0.0 0.0; 0.0 0.0 0.0 0.0 0.0 0.0 0.0 0.0 0.0 0.0 0.0 0.0 0.0 0.0; 0.0 0.0 0.0 0.0 0.0 0.0 0.0 0.0 0.0 0.0 0.0 0.0 0.0 0.0; 0.0 0.0 0.0 0.0 0.0 0.0 0.0 0.0 0.0 0.0 0.0 0.0 0.0 0.0; 0.0 0.0 0.0 0.0 0.0 0.0 0.0 0.0 0.0 0.0 0.0 0.0 0.0 0.0; 0.0 0.0 0.0 0.0 0.0 0.0 0.0 0.0 0.0 0.0 0.0 0.0 0.0 0.0; 0.0 0.0 0.0 0.0 0.0 0.0 0.0 0.0 0.0 0.0 0.0 0.0 0.0 0.0; 0.0 0.0 0.0 0.0 0.0 0.0 0.0 0.0 0.0 0.0 0.0 0.0 0.0 0.0; 0.0 0.0 0.0 0.0 0.0 0.0 0.0 0.0 0.0 0.0 0.0 0.0 0.0 0.0; 0.0 0.0 0.0 0.0 0.0 0.0 0.0 0.0 0.0 0.0 0.0 0.0 0.0 0.0; 0.0 0.0 0.0 0.0 0.0 0.0 0.0 0.0 0.0 0.0 0.0 0.0 0.0 0.0; 0.0 0.0 0.0 0.0 0.0 0.0 0.0 0.0 0.0 0.0 0.0 0.0 0.0 0.0; 0.0 0.0 0.0 0.0 0.0 0.0 0.0 0.0 0.0 0.0 0.0 0.0 0.0 0.0; 0.0 0.0 0.0 0.0 0.0 0.0 0.0 0.0 0.0 0.0 0.0 0.0 0.0 0.0]\n",
       "    Occurred: [7.21891e-9 1.09908e-5 2.03142e-5 2.4322e-5 2.20655e-5 4.88765e-5 4.56099e-5 4.65576e-5 5.22527e-5 5.33708e-5 5.16477e-5 5.00836e-5 5.00343e-5 5.11381e-5; -1.09704e-5 -2.9351e-8 8.63911e-6 1.36025e-5 1.14299e-5 3.7428e-5 3.48544e-5 3.57447e-5 4.15345e-5 4.28357e-5 4.07829e-5 3.88891e-5 3.89983e-5 4.04856e-5; -2.03103e-5 -8.60839e-6 -7.09979e-8 6.05066e-6 3.72136e-6 2.97453e-5 2.77659e-5 2.8529e-5 3.47725e-5 3.63289e-5 3.3859e-5 3.15844e-5 3.18855e-5 3.38928e-5; -2.43209e-5 -1.35708e-5 -6.00392e-6 -3.13606e-7 -1.88926e-6 2.24612e-5 2.07537e-5 2.16031e-5 2.73258e-5 2.88318e-5 2.64326e-5 2.41747e-5 2.44664e-5 2.63617e-5; -2.20443e-5 -1.14021e-5 -3.72034e-6 2.07534e-6 -1.84344e-7 2.45569e-5 2.2733e-5 2.35753e-5 2.92654e-5 3.07001e-5 2.83942e-5 2.62314e-5 2.64812e-5 2.82721e-5; -4.88785e-5 -3.74309e-5 -2.97522e-5 -2.24708e-5 -2.44784e-5 -3.87313e-7 -9.82969e-7 -3.40895e-7 6.05173e-6 7.85915e-6 4.97049e-6 2.29021e-6 2.84209e-6 5.35518e-6; -4.56128e-5 -3.48578e-5 -2.77738e-5 -2.0657e-5 -2.2739e-5 9.68386e-7 -4.80534e-7 8.06184e-7 6.77224e-6 8.3796e-6 5.60517e-6 3.03697e-6 3.50253e-6 5.87174e-6; -4.65526e-5 -3.57413e-5 -2.85295e-5 -2.16068e-5 -2.35738e-5 3.33978e-7 -6.39029e-7 -1.27845e-7 6.01353e-6 7.704e-6 4.94367e-6 2.40328e-6 2.85565e-6 5.2099e-6; -5.22657e-5 -4.1548e-5 -3.47903e-5 -2.72942e-5 -2.92814e-5 -6.07701e-6 -6.44929e-6 -6.03233e-6 -7.73445e-7 1.95546e-6 -1.16352e-6 -3.87795e-6 -3.33431e-6 -7.19737e-7; -5.33756e-5 -4.28413e-5 -3.63384e-5 -2.88447e-5 -3.07081e-5 -7.87585e-6 -8.39717e-6 -7.71444e-6 -1.56187e-6 -4.75029e-7 -2.84532e-6 -5.68387e-6 -5.12984e-6 -2.56324e-6; -5.16454e-5 -4.07821e-5 -3.38616e-5 -2.64385e-5 -2.83949e-5 -4.84957e-6 -5.61542e-6 -4.94684e-6 1.14314e-6 3.00238e-6 -2.2845e-7 -2.71874e-6 -2.17579e-6 3.97771e-7; -5.00789e-5 -3.88847e-5 -3.15841e-5 -2.41781e-5 -2.62298e-5 -2.20113e-6 -3.04454e-6 -2.40263e-6 3.86015e-6 5.6745e-6 2.71626e-6 -1.22655e-7 5.7586e-7 3.1552e-6; -5.00336e-5 -3.89984e-5 -3.18895e-5 -2.44736e-5 -2.64833e-5 -2.66205e-6 -3.51414e-6 -2.85949e-6 3.31239e-6 5.11613e-6 2.16904e-6 -5.15582e-7 -2.69548e-7 2.61995e-6; -5.11346e-5 -4.04833e-5 -3.38943e-5 -2.6366e-5 -2.82716e-5 -5.36328e-6 -5.88052e-6 -5.21155e-6 8.19018e-7 2.5525e-6 -4.01939e-7 -3.15624e-6 -2.53924e-6 -1.62076e-7]"
      ]
     },
     "execution_count": 40,
     "metadata": {},
     "output_type": "execute_result"
    }
   ],
   "source": [
    "output = matopen(\"Res.mat\"); # Verify the results\n",
    "names(output);\n",
    "outputData = read(output, \"Wres\");\n",
    "Wres = outputData;\n",
    "real_diff = real(W.value) - real(Wres);\n",
    "imag_diff = imag(W.value) - imag(Wres);\n",
    "@fact real_diff => roughly(zeros(n,n), TOL);\n",
    "@fact imag_diff => roughly(zeros(n,n), TOL)"
   ]
  },
  {
   "cell_type": "markdown",
   "metadata": {
    "slideshow": {
     "slide_type": "subslide"
    }
   },
   "source": [
    "### Fidelity in Quantum Information Theory - Introduction\n",
    "\n",
    "* This example is inspired from a lecture of John Watrous in the [course on Theory of Quantum Information](https://cs.uwaterloo.ca/~watrous/CS766/LectureNotes/08.pdf).\n",
    "\n",
    "* Fidelity is a measure of the **closeness** of two quantum states.\n",
    "   \n",
    "* The ability to distinguish between the quantum states is equivalent to the ability to distinguish between the classical probability distributions. \n",
    "\n",
    "* If fidelity between two states is 1, they are the same quantum state.\n",
    "\n",
    "<!-- If an experimenter is attempting to determine whether a quantum state is either of two possibilities {\\displaystyle \\rho } \\rho  or {\\displaystyle \\sigma } \\sigma , the most general possible measurement they can make on the state is a POVM, which is described by a set of Hermitian positive semidefinite operators {\\displaystyle \\{F_{i}\\}} \\{F_{i}\\}. If the state given to the experimenter is {\\displaystyle \\rho } \\rho , they will witness outcome {\\displaystyle i} i with probability {\\displaystyle p_{i}=\\mathrm {Tr} [\\rho F_{i}]} p_{i}={\\mathrm  {Tr}}[\\rho F_{i}], and likewise with probability {\\displaystyle q_{i}=\\mathrm {Tr} [\\sigma F_{i}]} q_{i}={\\mathrm  {Tr}}[\\sigma F_{i}] for {\\displaystyle \\sigma } \\sigma  -->\n",
    "\n",
    "<!-- Wikipedia Link -->\n",
    "<!-- https://en.wikipedia.org/wiki/Fidelity_of_quantum_states -->"
   ]
  },
  {
   "cell_type": "markdown",
   "metadata": {
    "slideshow": {
     "slide_type": "subslide"
    }
   },
   "source": [
    "* **Application** \n",
    "\n",
    "![Quantum Cryptography](Fidelity.png)\n",
    "\n",
    "* The Fidelity between two Hermitian semidefinite matrices P and Q is defined as:\n",
    "\n",
    "$$F(P,Q) = {||{P}^{1/2}{Q}^{1/2} ||}_{tr} =  \\max\\; |trace({P}^{1/2}U{Q}^{1/2})|$$\n",
    "\n",
    "where the trace norm $||.||_{tr}$ is the sum of the singular values, and the maximization goes over the set of all unitary matrices U."
   ]
  },
  {
   "cell_type": "markdown",
   "metadata": {
    "slideshow": {
     "slide_type": "subslide"
    }
   },
   "source": [
    "### Fidelity in Quantum Information Theory - Mathematical Formulation\n",
    "\n",
    "Fidelity can be expressed as the optimal value of the following complex-valued SDP:\n",
    "\n",
    "$$ \\textbf{maximize} \\frac{1}{2} trace(Z+Z^*)$$\n",
    "\n",
    "$$\\text{subject to } \\left[\\begin{array}{cc}P&Z\\\\{Z}^{*}&Q\\end{array}\\right] \\succeq 0$$\n",
    "\n",
    "$$\\text{where } Z \\in \\mathbf {C}^{n \\times n}$$"
   ]
  },
  {
   "cell_type": "markdown",
   "metadata": {
    "slideshow": {
     "slide_type": "subslide"
    }
   },
   "source": [
    "### Example"
   ]
  },
  {
   "cell_type": "code",
   "execution_count": 46,
   "metadata": {
    "slideshow": {
     "slide_type": "fragment"
    }
   },
   "outputs": [
    {
     "name": "stdout",
     "output_type": "stream",
     "text": [
      "----------------------------------------------------------------------------\n",
      "\tSCS v1.2.6 - Splitting Conic Solver\n",
      "\t(c) Brendan O'Donoghue, Stanford University, 2012-2016\n",
      "----------------------------------------------------------------------------\n",
      "Lin-sys: sparse-direct, nnz in A = 1621\n",
      "eps = 1.00e-04, alpha = 1.80, max_iters = 20000, normalize = 1, scale = 5.00\n",
      "Variables n = 801, constraints m = 6401\n",
      "Cones:\tprimal zero / dual free vars: 3161\n",
      "\tsd vars: 3240, sd blks: 1\n",
      "Setup time: 1.91e-03s\n",
      "----------------------------------------------------------------------------\n",
      " Iter | pri res | dua res | rel gap | pri obj | dua obj | kap/tau | time (s)\n",
      "----------------------------------------------------------------------------\n",
      "     0|      inf       inf      -nan      -inf      -inf       inf  7.54e-03 \n",
      "   100| 1.01e-03  2.31e-01  2.50e-02 -5.66e+02 -5.39e+02  0.00e+00  2.30e-01 \n",
      "   200| 2.22e-04  5.11e-02  3.54e-03 -5.75e+02 -5.71e+02  0.00e+00  4.48e-01 \n",
      "   300| 7.54e-05  1.64e-02  7.96e-04 -5.75e+02 -5.74e+02  0.00e+00  6.73e-01 \n",
      "   400| 3.46e-05  6.67e-03  2.29e-04 -5.75e+02 -5.75e+02  0.00e+00  9.00e-01 \n",
      "   500| 1.79e-05  2.98e-03  7.65e-05 -5.75e+02 -5.75e+02  0.00e+00  1.11e+00 \n",
      "   600| 9.20e-06  1.39e-03  2.84e-05 -5.75e+02 -5.75e+02  0.00e+00  1.30e+00 \n",
      "   700| 4.56e-06  6.63e-04  1.16e-05 -5.75e+02 -5.75e+02  0.00e+00  1.51e+00 \n",
      "   800| 2.18e-06  3.20e-04  5.17e-06 -5.75e+02 -5.75e+02  0.00e+00  1.73e+00 \n",
      "   900| 1.03e-06  1.55e-04  2.42e-06 -5.75e+02 -5.75e+02  0.00e+00  1.93e+00 \n",
      "   980| 5.63e-07  8.75e-05  1.35e-06 -5.75e+02 -5.75e+02  0.00e+00  2.14e+00 \n",
      "----------------------------------------------------------------------------\n",
      "Status: Solved\n",
      "Timing: Solve time: 2.14e+00s\n",
      "\tLin-sys: nnz in L factor: 8823, avg solve time: 6.83e-05s\n",
      "\tCones: avg projection time: 2.04e-03s\n",
      "----------------------------------------------------------------------------\n",
      "Error metrics:\n",
      "dist(s, K) = 3.1242e-09, dist(y, K*) = 1.1761e-09, s'y/|s||y| = -1.5744e-12\n",
      "|Ax + s - b|_2 / (1 + |b|_2) = 5.6250e-07\n",
      "|A'y + c|_2 / (1 + |c|_2) = 8.7453e-05\n",
      "|c'x + b'y| / (1 + |c'x| + |b'y|) = 1.3527e-06\n",
      "----------------------------------------------------------------------------\n",
      "c'x = -575.3507, -b'y = -575.3492\n",
      "============================================================================\n"
     ]
    }
   ],
   "source": [
    "n = 20 # Create the data\n",
    "P = randn(n,n) + im*randn(n,n);\n",
    "P = P*P';\n",
    "Q = randn(n,n) + im*randn(n,n);\n",
    "Q = Q*Q';\n",
    "\n",
    "Z = ComplexVariable(n,n); # Declare convex variable\n",
    "\n",
    "objective = 0.5*real(trace(Z+Z'));  # Specify the problem\n",
    "constraint = [P Z;Z' Q] ⪰ 0;\n",
    "problem = maximize(objective,constraint);\n",
    " \n",
    "solve!(problem) # Solve the problem"
   ]
  },
  {
   "cell_type": "code",
   "execution_count": 47,
   "metadata": {
    "slideshow": {
     "slide_type": "subslide"
    }
   },
   "outputs": [
    {
     "data": {
      "text/plain": [
       "\u001b[1m\u001b[32mSuccess\u001b[0m :: (line:441) :: fact was true\n",
       "  Expression: diff --> roughly(0,TOL)\n",
       "    Expected: 0\n",
       "    Occurred: -0.0010774993736504257"
      ]
     },
     "execution_count": 47,
     "metadata": {},
     "output_type": "execute_result"
    }
   ],
   "source": [
    "# Verify that computer fidelity is equal to actual fidelity\n",
    "computed_fidelity = evaluate(objective)\n",
    "P1,P2 = eig(P);\n",
    "sqP = P2 * diagm([p1^0.5 for p1 in P1]) * P2'\n",
    "Q1,Q2 = eig(Q)\n",
    "sqQ = Q2 * diagm([q1^0.5 for q1 in Q1]) * Q2'\n",
    "actual_fidelity = sum(svd(sqP * sqQ)[2])\n",
    "diff = computed_fidelity - actual_fidelity\n",
    "@fact diff => roughly(0, TOL)"
   ]
  },
  {
   "cell_type": "markdown",
   "metadata": {
    "slideshow": {
     "slide_type": "subslide"
    }
   },
   "source": [
    "# Thank You!"
   ]
  }
 ],
 "metadata": {
  "celltoolbar": "Slideshow",
  "kernelspec": {
   "display_name": "Julia 0.5.2",
   "language": "julia",
   "name": "julia-0.5"
  },
  "language_info": {
   "file_extension": ".jl",
   "mimetype": "application/julia",
   "name": "julia",
   "version": "0.5.2"
  }
 },
 "nbformat": 4,
 "nbformat_minor": 1
}
